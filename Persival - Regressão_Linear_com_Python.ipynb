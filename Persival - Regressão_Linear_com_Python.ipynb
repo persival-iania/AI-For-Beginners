{
  "cells": [
    {
      "cell_type": "markdown",
      "metadata": {
        "id": "view-in-github",
        "colab_type": "text"
      },
      "source": [
        "<a href=\"https://colab.research.google.com/github/persival-iania/AI-For-Beginners/blob/main/Persival%20-%20Regressa%CC%83o_Linear_com_Python.ipynb\" target=\"_parent\"><img src=\"https://colab.research.google.com/assets/colab-badge.svg\" alt=\"Open In Colab\"/></a>"
      ]
    },
    {
      "cell_type": "markdown",
      "source": [],
      "metadata": {
        "id": "mVMPhCxNKWDw"
      }
    },
    {
      "cell_type": "markdown",
      "source": [
        "![Awari.png](data:image/png;base64,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)\n"
      ],
      "metadata": {
        "id": "QzOkJdcYNXKK"
      }
    },
    {
      "cell_type": "code",
      "execution_count": null,
      "metadata": {
        "id": "DPvssbQJdK1_"
      },
      "outputs": [],
      "source": [
        "# importar pacotes necessários\n",
        "import numpy as np\n",
        "import matplotlib.pyplot as plt\n",
        "\n",
        "%matplotlib inline\n",
        "\n",
        "#Esse comando serve para plotar os gráficos estáticos logo abaixo da célula, \n",
        "#existem outras configurações do %matplolib que podem mostrar os gráficos em outras abas ou gráficos dinâmicos."
      ]
    },
    {
      "cell_type": "markdown",
      "source": [
        "AWARI \n",
        "\n",
        "Regressão linear\n",
        "\n"
      ],
      "metadata": {
        "id": "U3dCLFOnDO1e"
      }
    },
    {
      "cell_type": "markdown",
      "source": [],
      "metadata": {
        "id": "Z2pZdNdIKSgZ"
      }
    },
    {
      "cell_type": "markdown",
      "metadata": {
        "id": "XpdLhnDDdK2C"
      },
      "source": [
        "# Como Implementar Regressão Linear com Python?\n",
        "\n",
        "\n",
        "O campo de *Machine Learning* oferece tantas opções de algoritmos que é muito difícil alguém conhecer todos e se manter atualizado a cada dia.\n",
        "\n",
        "A escolha do algoritmo correto tem um enorme impacto na qualidade da solução, por isso é importante não apenas usar uma biblioteca pronta (sem ter a mínima ideia do que está por trás), mas ter pelo menos uma noção da teoria por trás dos modelos e algoritmos que você implementa.\n",
        "\n",
        "Uma das primeiras técnicas que a(o) cientista de dados costuma ter contato no começo dos seus estudos é a Análise de Regressão, onde aprende a implementar um modelo de Regressão Linear Simples.\n",
        "\n",
        "<img src=\"https://github.com/omnijus-persival/sigmoidal_ai/blob/master/img/linha_regressao.gif?raw=1\" width=\"400\"/>\n",
        "\n",
        "Entretanto, muita gente acaba apenas decorando como usar o ```scikit-learn``` e nunca mais vais atrás do conceito estatístico que está por trás da Regressão Linear.\n",
        "\n",
        "Este notebook traz uma conceituação um pouco mais aprofundada que o normal, porém sem exagerar em formalidade/rigor matemático. O objetivo é apenas convidar você a despertar esse lado curioso pelas coisas que implementamos no dia-a-dia, afinal é isso que vai te destacar da média.\n",
        "\n",
        "O objetivo é apenas convidar você a despertar esse lado curioso pelas coisas que implementamos no dia-a-dia, afinal é isso que vai te destacar da média."
      ]
    },
    {
      "cell_type": "markdown",
      "metadata": {
        "id": "VMKEf1w-dK2E"
      },
      "source": [
        "## O que é Análise de Regressão?\n",
        "\n",
        "O objetivo da análise de regressão é explorar o relacionamento existente entre duas ou mais variáveis, visando obter informações sobre uma delas a partir dos valores conhecidas das outras.\n",
        "\n",
        "\n",
        "A análise de regressão busca entender o relacionamento entre variáveis, e esse relacionamento pode ser representado por uma equação matemática. \n",
        "\n",
        "<img src=\"https://github.com/omnijus-persival/sigmoidal_ai/blob/master/img/regressao_linear_ex.png?raw=1\" alt=\"Regressão Linear\" width=\"300\"/>\n",
        "\n",
        "Vamos supor que você queira saber o preço de venda de uma casa sua e acredita que existe um relacionamento entre as variáveis que você está considerando (área construída, número de quartos e localização) com o preço que você pode pedir nela.\n",
        "\n",
        "Seria possível fazer uma análise de regressão, baseado nas outras casas da cidade para estimar o preço de venda da sua, após obter os pesos para os parâmetros em um modelo de Machine Learning.\n",
        "\n",
        "### Relação não determinística\n",
        "\n",
        "Um ponto importante mas muito desconhecido é que nos nossos problemas do cotidiano, muitas variáveis x e y aparentam estar relacionadas uma com a outra, porém **de maneira não determinística**.\n",
        "\n",
        "Uma relação determínistica, por exemplo, é quando  queremos saber a distância percorrida por um carro, mantendo velocidade constante $v$ ao longo de $\\Delta t$ segundos. Nesse exemplo, sabemos que a distância percorrida será $\\Delta s = v * \\Delta t$, pois as variáveis estão relacionadas deterministicamente.\n",
        "\n",
        "Um exemplo de variáveis relacionadas de maneira não determinística é se quisessemos saber $y = \\text{tamanho do vocabulário de uma criança}$ sendo $x = \\text{idade dessa criança}$."
      ]
    },
    {
      "cell_type": "code",
      "execution_count": null,
      "metadata": {
        "id": "XYZQPhJFdK2E",
        "outputId": "eda8d3fe-becf-40b7-d994-bdc0ab201192",
        "colab": {
          "base_uri": "https://localhost:8080/",
          "height": 313
        }
      },
      "outputs": [
        {
          "output_type": "display_data",
          "data": {
            "text/plain": [
              "<Figure size 720x288 with 2 Axes>"
            ],
            "image/png": "[encoded data removed]"
          },
          "metadata": {
            "needs_background": "light"
          }
        }
      ],
      "source": [
        "# exemplo de plots determinísticos\n",
        "np.random.seed(42) \n",
        "det_x = np.arange(0,10,0.1) \n",
        "\n",
        "det_y = 2 * det_x + 3\n",
        "\n",
        "# exemplo de plots não determinísticos\n",
        "non_det_x = np.arange(0, 10, 0.1)\n",
        "non_det_y = 2 * non_det_x + np.random.normal(size=100)\n",
        "\n",
        "# plotar determinísticos vs. não determinísticos\n",
        "fig, axs = plt.subplots(1, 2, figsize=(10,4), constrained_layout=True)\n",
        "\n",
        "axs[0].scatter(det_x, det_y, s=2)\n",
        "axs[0].set_title(\"Determinístico\")\n",
        "\n",
        "axs[1].scatter(non_det_x, non_det_y, s=2)\n",
        "axs[1].set_title(\"Não Determinístico\")\n",
        "\n",
        "plt.show()"
      ]
    },
    {
      "cell_type": "markdown",
      "metadata": {
        "id": "eDcF0TzmdK2F"
      },
      "source": [
        "Olhando rapidamente você já consegue ver uma diferença importante, que apesar dos dois gráficos estarem mostrando pontos que se espalham sobre uma “reta virtual”, um deles não segue um padrão exato, determinístico. Parece que há algum tipo de aleatoriedade envolvida.\n",
        "\n",
        "Ou seja, nos modelos de Regressão Linear que usamos em Machine Learning, não temos uma relação perfeita entre as variáveis, pois as observações do dataset não cabem exatamente em uma reta.\n",
        "\n",
        "Isso significa que temos um modelo probabilístico, que captura a aleatoriedade que é inerente de qualquer processo do mundo real.\n",
        "\n",
        "Pense, você consegue traçar uma reta pegando todos os pontos no gráfico da esquerda? E consegue traçar uma reta pegando todos os pontos no gráfico da direita?\n",
        "\n",
        "Voltando para aquele exemplo de vender sua casa, basta imaginar que seu vizinho tem uma casa do mesmo tamanho, mesmo número de quartos, mesma localização, porém elas dificilmente teriam o mesmo preço exato."
      ]
    },
    {
      "cell_type": "markdown",
      "metadata": {
        "id": "3jinDYeDdK2G"
      },
      "source": [
        "## O modelo de regressão linear simples\n",
        "\n",
        "Para representar a relação entre uma variável dependente ($y$) e uma variável independente ($x$), usamos o modelo\n",
        "\n",
        "$$y = \\beta_0 + \\beta_1 x + \\varepsilon$$\n",
        "\n",
        "que determina uma linha reta com inclinação $\\beta_1$ e intercepto $\\beta_0$, com a variável aleatória (erro) $\\varepsilon$, considerada normalmente distribuída com $E(\\varepsilon) = 0$ e $V(\\varepsilon) = \\sigma^2$.\n",
        "\n",
        "Para simplificar, vamos assumir a premissa de que o valor médio da variável $\\varepsilon$ para um dado valor de $x$ é $0$. Dessa maneira, a equação da seguinte forma:\n",
        "\n",
        "$$y = \\beta_0 + \\beta_1 x$$\n",
        "\n",
        "Quando a gente implementa um modelo de Regressão Linear com o ```scikit-learn```, a gente quer encontrar os valores dos parâmetros $\\beta_0$ e $\\beta_1$ que melhor representam o relacionamento entre as variáveis.\n",
        "\n",
        "Antes de você chamar o ```fit()``` do seu modelo, $\\beta_0$ e $\\beta_1$ são parâmetros totalmente desconhecidos. \n",
        "\n",
        "<img src=\"https://github.com/omnijus-persival/sigmoidal_ai/blob/master/img/retas_regressao_linear.png?raw=1\" width=\"300\"/>\n",
        "\n",
        "Olhando no gráfico acima, você é capaz de dizer qual reta seria mais plausível?\n",
        "\n",
        "Parece óbvio que é a reta verde, porém não seria possível essa análise visual caso tivessemos centenas de variáveis. E também temos um problema, o computador não consegue \"olhar\" para ver qual reta fica melhor.\n",
        "\n",
        "A questão é, como encontrar boas estimativas de $\\beta_0$ e $\\beta_1$ para que nosso modelo forneca boas estimativas?\n",
        "\n",
        "*Se até agora tudo ainda está confuso para você e você não consegue enxergar uma reta na equação acima, eu aconselho você [revisar a equação fundamental da reta](https://pt.khanacademy.org/math/algebra/two-var-linear-equations/point-slope/v/idea-behind-point-slope-form), que ficou esquecida na sua cabeça desde a época de ensino médio.*"
      ]
    },
    {
      "cell_type": "markdown",
      "metadata": {
        "id": "q5A19lSadK2G"
      },
      "source": [
        "### Estimando os parâmetros de Modelo\n",
        "\n",
        "De acordo com [Devore](https://www.amazon.com.br/Probabilidade-estat%C3%ADstica-para-engenharia-ciências/dp/8522111839/ref=sr_1_1?__mk_pt_BR=ÅMÅŽÕÑ&keywords=devore&qid=1564349463&s=gateway&sr=8-1), um método usado para verificar se uma reta oferece um bom ajuste aos dados é o **Método dos Mínimos Quadrados**.\n",
        "\n",
        "De acordo com esse método, o desvio vertical do ponto $(x_i, y_i)$ da reta $y=\\beta_0 + \\beta_1x$ é:\n",
        "\n",
        "$$\\text{altura do ponto} - \\text{altura da reta} = y_i = (\\beta_0 + \\beta_1 x_i)$$\n",
        "\n",
        "A soma dos quadrados de tais desvios verticais dos pontos $(x_1, y_1), \\dots, (x_n, y_n)$ à reta é, portanto,\n",
        "\n",
        "$$f(\\beta_0, \\beta_1) = \\sum_{i=1}^{n}[y_i - (\\beta_0 + \\beta_1x_i)]^2$$\n",
        "\n",
        "Uma reta é razoável se as distâncias verticais (desvios) dos pontos analisados em relação à reta são pequenas.\n",
        "\n",
        "<img src=\"https://github.com/omnijus-persival/sigmoidal_ai/blob/master/img/desvios_reta.png?raw=1\" width=\"400\"/>\n",
        "\n",
        "Ou seja, a reta que tem o melhor ajuste possível é aquela na qual se tem a menor soma possível de desvios quadrados.\n",
        "\n",
        "Os valores de minimização $\\beta_0$ e $\\beta_1$ são encontrados quando se resolvem as derivadas parciais abaixo, igualando-as a $0$.\n",
        "\n",
        "$$\\frac{\\partial f(\\beta_0, \\beta_1)}{\\partial \\beta_0} = \\sum 2(y_i - \\beta_0 - \\beta_1 x_i)(-1) = 0$$\n",
        "\n",
        "e\n",
        "\n",
        "$$\\frac{\\partial f(\\beta_0, \\beta_1)}{\\partial \\beta_1} = \\sum 2(y_i - \\beta_0 - \\beta_1 x_i)(-x_i) = 0$$\n",
        "\n",
        "Essa etapa requer um conhecimento mais avançado de cálculo, e eu não vou entrar em mais detalhes. Tudo que você precisa saber é que a cada iteração do algoritmo a gente espera encontrar a menor soma possível de desvios quadrados."
      ]
    },
    {
      "cell_type": "markdown",
      "metadata": {
        "id": "MVw71GsadK2H"
      },
      "source": [
        "## Implementando Regressão Linear com Python"
      ]
    },
    {
      "cell_type": "markdown",
      "metadata": {
        "id": "xV0LmFw5dK2H"
      },
      "source": [
        "Para ver na prática uma aplicação simples e direta da Regressão Linear, vamos usar as variáveis que plotamos lá em cima, ```non_det_x``` e ```non_det_y```.\n",
        "\n",
        "Lembrando que aqui eu estou ignorando completamente as etapas de split entre datasets de treino e teste ou qualquer outro tipo de etapa. O objetivo é apenas encontrar uma reta com um fit ideal aos nossos pontos."
      ]
    },
    {
      "cell_type": "code",
      "execution_count": null,
      "metadata": {
        "id": "Hlrj19hddK2I"
      },
      "outputs": [],
      "source": [
        "# importar os pacotes necessários\n",
        "from sklearn.datasets import load_diabetes\n",
        "from sklearn.linear_model import LinearRegression\n",
        "from sklearn.metrics import mean_squared_error"
      ]
    },
    {
      "cell_type": "markdown",
      "metadata": {
        "id": "tZPwf8todK2I"
      },
      "source": [
        "Como temos apenas uma variável, nosso ```x``` é um vetor (1 dimensão).\n",
        "\n",
        "Após minimizar a função custo e encontrar o melhor *fit* os parâmetros da equação da reta que buscamos estarão armazenados como atributos de ```lm_model```, onde $\\beta_0 = \\text{intercept_}$ e $\\beta_1 = \\text{coef_}$.\n",
        "\n",
        "Imprimindo esses parâmetros a gente vê quais valores numéricos melhor representam nossa reta para o modelo de Regressão Linear:"
      ]
    },
    {
      "cell_type": "code",
      "execution_count": null,
      "metadata": {
        "id": "RFGbznPGdK2I"
      },
      "outputs": [],
      "source": [
        "# criar modelo linear e otimizar\n",
        "lm_model = LinearRegression()\n",
        "lm_model.fit(non_det_x.reshape(-1,1), non_det_y)\n",
        "\n",
        "# extrair coeficientes\n",
        "slope = lm_model.coef_\n",
        "intercept = lm_model.intercept_"
      ]
    },
    {
      "cell_type": "code",
      "execution_count": null,
      "metadata": {
        "id": "obRQ6Wo0dK2I",
        "outputId": "ce5941c8-7b47-4f84-ad8d-96712653ca95",
        "colab": {
          "base_uri": "https://localhost:8080/"
        }
      },
      "outputs": [
        {
          "output_type": "stream",
          "name": "stdout",
          "text": [
            "b0: \t-0.17281285407737457\n",
            "b1: \t2.0139325932693497\n"
          ]
        }
      ],
      "source": [
        "print(\"b0: \\t{}\".format(intercept))\n",
        "print(\"b1: \\t{}\".format(slope[0]))"
      ]
    },
    {
      "cell_type": "markdown",
      "metadata": {
        "id": "-EJ1Lh2odK2J"
      },
      "source": [
        "E agora vamos plotar a reta, com os valores de parâmetros obtidos, sobreponde ela aos pontos e ver como essa solução parece plausível visualmente."
      ]
    },
    {
      "cell_type": "code",
      "execution_count": null,
      "metadata": {
        "id": "JZvuJHUCdK2J",
        "outputId": "26b7f70d-e076-4fc7-a5ce-d468da7d87a4",
        "colab": {
          "base_uri": "https://localhost:8080/",
          "height": 265
        }
      },
      "outputs": [
        {
          "output_type": "display_data",
          "data": {
            "text/plain": [
              "<Figure size 432x288 with 1 Axes>"
            ],
            "image/png": "[encoded data removed]"
          },
          "metadata": {
            "needs_background": "light"
          }
        }
      ],
      "source": [
        "# plotar pontos e retas com parâmetros otimizados\n",
        "plt.scatter(non_det_x, non_det_y, s=3)\n",
        "plt.plot(non_det_x, (non_det_x * slope + intercept), color='r')\n",
        "\n",
        "plt.show()"
      ]
    },
    {
      "cell_type": "markdown",
      "metadata": {
        "id": "oqRoqJrGdK2J"
      },
      "source": [
        "E é isso! Essa solução parece de fato atender o nosso problema.\n",
        "\n",
        "Agora você sabe não apenas implementar uma Regressão Linear, que é feito com pouquíssimas linhas de código, mas consegue entender a lógica por trás do código :)"
      ]
    },
    {
      "cell_type": "markdown",
      "metadata": {
        "id": "JUC3DJffdK2K"
      },
      "source": [
        "## Resumo\n",
        "\n",
        "Eu aposto que agora você conseguiu entender o funcionamento básico de um modelo de Regressão Linear, vendo tanto visualmente (como a reta vai “melhorando” a cada iteração) quanto absorvendo conceitos (com a matemática que foi exposta).\n",
        "\n",
        "Este artigo foi muito mais teórico que aplicação de técnicas de Data Science ou Machine Learning, e tudo isso propositalmente. Ao limitar para uma variável, conseguimos realizar os plots em 2 dimensões  e acompanhar mais facilmente tudo.\n",
        "\n",
        "Obviamente, todo essa teoria pode ser extrapolada para problemas mais complexos envolvendo múltiplas variáveis. A lógica é a mesma!\n",
        "\n",
        "Tenha sempre consciência da importância de ir além da pura e simples aplicação de código. Faça isso para Redes Neurais, Regressão Logística, XGBoost, mas nunca aceite sem entender.\n",
        "\n",
        "Lembre-se que o que vai te diferenciar das outras pessoas, da média, é o conceito que você sabe a mais e a criatividade para pensar em soluções fora-da-caixa. "
      ]
    },
    {
      "cell_type": "code",
      "execution_count": null,
      "metadata": {
        "id": "5Iar_1vWdK2K"
      },
      "outputs": [],
      "source": []
    }
  ],
  "metadata": {
    "kernelspec": {
      "display_name": "Python 3",
      "language": "python",
      "name": "python3"
    },
    "language_info": {
      "codemirror_mode": {
        "name": "ipython",
        "version": 3
      },
      "file_extension": ".py",
      "mimetype": "text/x-python",
      "name": "python",
      "nbconvert_exporter": "python",
      "pygments_lexer": "ipython3",
      "version": "3.7.3"
    },
    "colab": {
      "provenance": [],
      "include_colab_link": true
    }
  },
  "nbformat": 4,
  "nbformat_minor": 0
}